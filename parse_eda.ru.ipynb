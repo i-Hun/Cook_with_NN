{
 "cells": [
  {
   "cell_type": "code",
   "execution_count": 1,
   "metadata": {
    "ExecuteTime": {
     "end_time": "2018-08-02T16:16:28.896302Z",
     "start_time": "2018-08-02T16:16:28.735130Z"
    }
   },
   "outputs": [],
   "source": [
    "import requests\n",
    "from pyquery import PyQuery as pq\n",
    "import json\n",
    "from json import JSONDecodeError\n",
    "from tqdm import tqdm_notebook"
   ]
  },
  {
   "cell_type": "code",
   "execution_count": 52,
   "metadata": {
    "ExecuteTime": {
     "end_time": "2018-08-02T13:13:26.825531Z",
     "start_time": "2018-08-02T13:13:26.820016Z"
    }
   },
   "outputs": [],
   "source": [
    "url = \"https://eda.ru/recepty?page={}\""
   ]
  },
  {
   "cell_type": "code",
   "execution_count": 35,
   "metadata": {
    "ExecuteTime": {
     "end_time": "2018-08-02T11:50:32.332280Z",
     "start_time": "2018-08-02T11:50:32.150123Z"
    }
   },
   "outputs": [],
   "source": [
    "res = requests.get(url.format(1))"
   ]
  },
  {
   "cell_type": "code",
   "execution_count": 47,
   "metadata": {
    "ExecuteTime": {
     "end_time": "2018-08-02T11:58:24.337697Z",
     "start_time": "2018-08-02T11:58:24.208655Z"
    }
   },
   "outputs": [],
   "source": [
    "recipes_subcat_list = []\n",
    "for recipes_cat in pq(res.text).find(\".seo-footer .seo-footer__list\"):\n",
    "    recipes_subcats = pq(recipes_cat).find(\"li.seo-footer__list-item, li.seo-footer__list-title _empty\")\n",
    "    for recipes_subcat in recipes_subcats:\n",
    "        d = {\n",
    "            \"title\": pq(recipes_subcat).text().split(\"\\xa0\\xa0\")[0],\n",
    "            \"href\": pq(recipes_subcat).find(\"a\").attr(\"href\"),\n",
    "            \"num\": int(pq(recipes_subcat).text().split(\"\\xa0\\xa0\")[1])\n",
    "        }\n",
    "        recipes_subcat_list.append(d)"
   ]
  },
  {
   "cell_type": "code",
   "execution_count": 83,
   "metadata": {
    "ExecuteTime": {
     "end_time": "2018-08-02T14:19:59.383948Z",
     "start_time": "2018-08-02T13:44:25.563295Z"
    },
    "scrolled": true
   },
   "outputs": [
    {
     "name": "stdout",
     "output_type": "stream",
     "text": [
      "Соленья и консервация\n",
      "Варенье, URL /recepty/sousy-marinady/marinovannaya-zelenaya-fasol-s-chili-i-limonom-57147346zmarina-29493tom-amaretti-20897\n",
      "Салаты на зимуecepty/salaty/fruktovyy-salat-s-malinovym-varenem-125580027450613a-54375ryanostyami-80897\n",
      "Овощные салатыecepty/salaty/zimniy-citrusovyy-salat-s-chernym-percem-syrom-feta-i-myatoy-57132\n",
      "Салаты с курицейcepty/salaty/salat-s-rukkoloy-svekloy-i-adygeyskim-syrom-125375-tmina-543483738301180-17405era-513630\n",
      "Теплые салаты/recepty/salaty/kurinyy-salat-s-lapshoy-569875908nij-salat-55524ousom-tahini-57214i-4532432652\n",
      "Фруктовые салатыcepty/salaty/teplyy-salat-s-veshenkami-avokado-i-molodym-kartofelem-125123koy-s-ukropom-53915a-51363246-537558\n",
      "Слоеные салатыrecepty/salaty/fruktovyy-salat-s-malinovym-varenem-125580y-zapravkoy-57557enim-50009691361548\n",
      "Винегрет URL /recepty/salaty/sloenyy-salat-so-svekloy-i-greckim-orehom-68765073hami-4152602135\n",
      "Салат «Цезарь»recepty/salaty/vinegret-s-pekinskoj-kapustoj-48237-apelsinovim-sokom-53563-27350-22180-248632124\n",
      "Оливье, URL /recepty/sousy-marinady/zapravka-s-orehami-dlya-salata-cezar-5753427974i-klassicheskoj-zapravkoj-s-vustershirskim-sousom-48003\n",
      "{\"id\": 15894, \"name\": \"\"Кукурузный\" цыпленок\", \"amount\": \"260 г\"}bolshoj-s-file-ciplenka-na-grile-23939\n",
      "Мясные салатыrecepty/zakuski/olive-s-utkoj-po-receptu-njani-i-i-oblomova-53070som-4797091\n",
      "Мимоза, URL /recepty/salaty/pestrij-mjasnoj-salat-47992i-omletom-35218822709710nch-21651ikami-22789987\n",
      "Греческий салатcepty/salaty/salat-mimoza-s-lososem-i-sirom-42959u-treski-1429337\n",
      "Салаты корейскиеepty/osnovnye-blyuda/grecheskij-salat-s-kuricej-5564154696salatom-iz-repi-42848483\n",
      "Паста карбонараcepty/supy/korejskij-salat-s-mjasom-3459806i-16447\n",
      "Равиоли URL /recepty/pasta-picca/spagetti-karbonara-s-syrom-55055-5504440781onara-9299028242ri-33195\n",
      "Тесто для пиццыcepty/osnovnye-blyuda/tvorozhnie-ravioli-560428-s-minsmitom-54217atom-16545rina-20693\n",
      "БолоньезеRL /recepty/pasta-picca/testo-dlja-picci-s-polentoj-53812vochnom-masle-11471040\n",
      "Горячие закускиcepty/sousy-marinady/boloneze-klassicheskiy-81105ultivarke-54057-54427-451555216\n",
      "Паштеты3, URL /recepty/osnovnye-blyuda/ciplenok-s-kukuruzoj-i-lisichkami-39286081hesnochnom-souse-s-bazilikom-25655om-58482\n",
      "Дипe 12, URL /recepty/zakuski/seledochnyy-pashtet-1144062593j-48730i-93984lukom-49274ym-hlebom-91521i-22505e-39394\n",
      "ФриттатаURL /recepty/sousy-marinady/dip-so-shpinatom-i-travami-53454j-i-medom-dlja-tostov-i-hlebcev-52119\n",
      "Хумус7, URL /recepty/osnovnye-blyuda/frittata-s-mangoldom-v-duhovke-56869-55045kom-29184m-48760ona-ramzi-51334\n",
      "Чипсы5, URL /recepty/zakuski/humus-po-prostomu-114434maitake-i-kedrovimi-orehami-5627853629kom-i-olivkovim-maslom-53369\n",
      "КарпаччоURL /recepty/zakuski/chipsy-iz-polenty-s-chili-i-cedroy-limona-5687078kuricej-i-parmezanom-403638888\n",
      "Канапе, URL /recepty/zakuski/karpachcho-iz-tomatov-s-myatoy-i-granatovym-sousom-9381426184ajkona-487906186\n",
      "ГуакамолеRL /recepty/zakuski/kanape-s-saljami-i-jajcom-554785492-55473m-20503ebe-5349104ami-mjatoj-23416\n",
      "Баклажанная икраepty/osnovnye-blyuda/batat-i-tykva-s-guakamole-56872-i-kapersami-411502052\n",
      "Такос4, URL /recepty/zakuski/melitzanosalata-125029hesnokom-446092-s-sirom-na-tostah-iz-chernogo-hleba-38924\n",
      "Форшмак URL /recepty/zakuski/tako-s-mjasom-na-grile-54290skim-salatom-54007stoj-21235\n",
      "КесадильяRL /recepty/osnovnye-blyuda/forshmak-s-kartofelem-39207na-temu-forshmaka-57835\n",
      "ЗаливноеURL /recepty/osnovnye-blyuda/kesadilya-s-yagnenkom-halapeno-i-maslinami-91453\n",
      "Лобио3, URL /recepty/osnovnye-blyuda/zalivnoe-53802azykom-58462-majonezom-18223\n",
      "Кабачковая икраcepty/zakuski/lobio-s-orehami-30003li-534574304om-17679i-41368\n",
      "Сырное фондю/recepty/zakuski/ovoshhnaja-ikra-s-tikvoj-svekloj-i-jablokami-47573987i-iz-balzamicheskogo-uksusa-33520\n",
      "Сациви, URL /recepty/osnovnye-blyuda/sirnoe-fondju-na-moloke-41644em-179511879858\n",
      "Лечо 3, URL /recepty/osnovnye-blyuda/sacivi-iz-kurici-s-gvozdikoj-i-koricej-41381-16559\n",
      "Холодец URL /recepty/zakuski/tolstaja-picca-s-kolbasoj-i-lecho-35316y-i-lecho-91913\n",
      "Закусочные тортыepty/zakuski/kitajskij-holodec-41499inih-potroshkov-23603j-39395\n",
      "БастурмаURL /recepty/sendvichi/zakusochnie-sjendvichi-iz-piti-40968ikrovolnovoy-pechi-58426m-grejvi-24280\n",
      "КоктейлиURL /recepty/osnovnye-blyuda/basturma-na-grile-53793a-57425\n",
      "Смузи43, URL /recepty/napitki/kokteyl-normandie-941352295-i-klubnikoy-686220odinoy-68621-averina-69441404\n",
      "Коктейли алкогольныеy/zavtraki/zelenyy-smuzi-s-chernikoy-5762791-fenhelja-54137021781145640a-48990\n",
      "Лимонад, URL /recepty/napitki/kokteyl-solnechnyy-ozhog-125394-297371819510hpazhkah-26796166ousom-24657\n",
      "Компоты, URL /recepty/napitki/limonad-papayya-s-dzhemom-iz-aloe-i-semenami-chia-93330568\n",
      "Пунш 7, URL /recepty/napitki/kompot-iz-yablok-i-apelsinov-93737-fruktov-41234ta-80422rehami-39251enem-3687699145\n",
      "Молочный коктейльpty/napitki/jablochnij-punsh-po-njujorkski-53880m-punshe-3104721963406ndi-20466\n",
      "Горячий шоколадcepty/napitki/molochnyy-kokteyl-s-malinoy-i-klubnikoy-68622rodinoy-68621go-dereva-38686\n",
      "Коктейли с джиномpty/napitki/gorjachij-shokolad-so-specijami-i-jagodami-386130757879631698-42240melju-20923\n",
      "Коктейли с водкойpty/napitki/french-75-55988om-fialkovim-siropom-318199652n-41010j-20482\n",
      "ГлинтвейнRL /recepty/napitki/shoty-neonovyy-demon-93990liten-cosmopolitan-slushy-54620a-averina-69441\n",
      "Коктейли с ромомepty/napitki/glintveyn-klassicheskiy-125181a-interaplen-69516626803870379\n",
      "Ликеры, URL /recepty/napitki/kokteyl-bitter-melon-938093096-92367hnoy-voronezh-93820-41070\n",
      "Коктейли безалкогольныеpitki/kokteyl-solnechnyy-ozhog-1253944orom-i-ananasovym-sokom-91589\n",
      "Коктейли с виномepty/napitki/bezalkogolnij-koktejl-iz-bazilika-s-medom-514570\n",
      "Коктейли с вискиepty/napitki/gljog-53530persikami-i-speciyami-69703elsinom-79839tema-averina-69442\n",
      "Мохито, URL /recepty/napitki/lavandovij-koktejl-s-viski-26774shnjami-na-shpazhkah-2679694\n",
      "Коктейли с брендиpty/napitki/mohito-s-vetkoj-tarhuna-49208im-sherbetom-31293amonom-114550\n",
      "Кисель, URL /recepty/napitki/kokteyl-poceluy-merilin-57524alsamic-manhattan-41112-julep-41108\n",
      "Сангрия URL /recepty/napitki/jablochnij-kisel-15322niki-ili-iz-suhih-jagod-shipovnika-15324\n",
      "Коктейли с текилойty/napitki/sangriya-s-persikami-i-speciyami-69703rcedes-bar-artema-averina-69442\n",
      "Грог 3, URL /recepty/napitki/kokteyl-tekiza-malina-6920780083-69138ita-41033\n",
      "Квас 3, URL /recepty/napitki/pryanyy-grog-934223088rog-23086ostjami-cedroj-apelsina-20476\n",
      "Морс 2, URL /recepty/napitki/letnij-kvas-iz-smorodini-32931-29321\n",
      "Сбитень URL /recepty/napitki/mors-iz-smorodini-51815-mors-s-malinoy-ili-oblepihoy-114844\n",
      "Сидр 2, URL /recepty/napitki/sbiten-s-myatoy-zveroboem-i-chernym-percem-69372\n",
      "Наливка URL /recepty/napitki/dushistij-jablochnij-sidr-39720-i-koricej-35113specijami-30456\n",
      "Пироги, URL /recepty/napitki/nalivka-iz-chernoplodnoj-rjabini-46859\n",
      "Торты129, URL /recepty/vypechka-deserty/pirog-s-solenym-lososem-i-goryachim-syrom-5618788ehom-54140i-48491j-5404756919742\n",
      "Печенье, URL /recepty/vypechka-deserty/tort-s-shokolodnyh-pryanikov-125046-s-kofejnim-kremom-54262036ehov-48785789\n",
      "Кексы48, URL /recepty/vypechka-deserty/bistroe-pechene-s-sjurprizom-312889-s-karamelizovannim-imbirem-207576o-44437m-49348\n",
      "Блины\n",
      "Хлеб\n",
      "Мороженое\n",
      "Оладьи\n",
      "Маффины\n",
      "Пудинг3, URL /recepty/vypechka-deserty/kukuruznie-maffini-s-bekonom-i-sirom-567639777-8060462251836-glazuri-264267191\n",
      "Пирожное URL /recepty/vypechka-deserty/risovij-puding-s-celnim-molokom-56049ehami-54498sousom-538222580137034ami-205394\n",
      "Чизкейк, URL /recepty/vypechka-deserty/kashtanovo-shokoladnij-desert-50598rtom-57652lanc-tavuk-g-s--5077471999557\n",
      "Булочки, URL /recepty/vypechka-deserty/slivochno-bananovij-chizkejk-s-orehami-485723766ke-48701om-93318j-proslojkoj-5365857\n",
      "Шарлотка URL /recepty/vypechka-deserty/bulka-s-plitkoy-shokolada-93735nachinkoj-53723i-oreshkami-24494orehami-zlakami-69177\n",
      "Мусс 9, URL /recepty/vypechka-deserty/sharlotka-s-nezhnim-biskvitom-i-hrustjashhej-korochkoj-4679650069\n",
      "Суфле12, URL /recepty/vypechka-deserty/shokoladnyy-muss-s-klubnichnym-sousom-80720-695308321177023202\n",
      "Пирожки, URL /recepty/osnovnye-blyuda/sufle-iz-kukuruznoy-kashi-56108ke-5061714403nnoe-kislo-sladkim-salatom-iz-krasnogo-luka-17408\n",
      "Брауни1, URL /recepty/vypechka-deserty/vozdushnye-pirozhki-104224-i-zelenju-514974662kami-55302i-23197ty-28919\n",
      "Конфеты, URL /recepty/vypechka-deserty/klubnichnyy-brauni-s-chizkeykom-93295na-92601hami-125265-brauni-58198\n",
      "Бисквит, URL /recepty/vypechka-deserty/roskoshnye-veganskie-shokoladnye-tryufeli-57663e-2638968836879\n",
      "Сладкие рулетыecepty/vypechka-deserty/kofeynyy-biskvit-124969tuncom-56162ne-5462734livochnim-kremom-47113\n",
      "Лепешки URL /recepty/vypechka-deserty/celnozernovoy-makovyy-rulet-bezdrozhzhevoy-114468963879779ande-45912\n",
      "Кишe 8, URL /recepty/osnovnye-blyuda/vegetarianskie-lepeshki-iz-kartofelya-i-morkovi-576085216nom-54505s-listovoj-kapustoj-53875\n",
      "Капкейк URL /recepty/vypechka-deserty/prostoy-lososevyy-kish-56189gribami-49313rada-kishmish-57319ercem-812949319\n",
      "ТарталеткиL /recepty/vypechka-deserty/kapkeyki-s-klubnikoy-i-kremom-93891-ganasha-i-merengovim-kremom-49642est-81040\n",
      "ПанкейкиURL /recepty/vypechka-deserty/tartaletki-s-kozim-sirom-5691656203-69030i-pashot-54160amel-17976om-47671-58527\n",
      "ТирамисуURL /recepty/zavtraki/bystrye-bananovye-pankeyki-114557vanilnym-saharom-125011agodami-39132\n",
      "Крем 7, URL /recepty/vypechka-deserty/tiramisu-dlya-diabetikov-690535541-kremom-422377311606\n",
      "Куличи, URL /recepty/osnovnye-blyuda/krem-iz-kartofelya-s-osminogami-v-podlive-125223-80492mnij-shokolad-55754\n",
      "ШтрудельURL /recepty/vypechka-deserty/pasha-iz-maskarpone-49960nim-kremom-50010j-glazuri-37324-31426\n",
      "Тесто для пирожковty/vypechka-deserty/postnyy-yablochnyy-shtrudel-s-klyukvoy-12506657720im-sousom-5526208243356\n",
      "Песочное печеньеepty/vypechka-deserty/bezoparnoe-drozhzhevoe-testo-80947t-vladelca-domashnej-pekarni-49481\n",
      "Сорбет, URL /recepty/vypechka-deserty/pesochnoe-pechene-s-shokoladnimi-kroshkami-38080hnoj-raskraskoj-535860\n",
      "Вафли6, URL /recepty/vypechka-deserty/dynnyy-sorbet-s-rublennoy-myatoy-9386576159rcem-chili-3776809213\n",
      "Манник, URL /recepty/vypechka-deserty/celnozernovye-vafli-91632916336145nnogo-moloka-920381livkami-20426\n",
      "Пончики URL /recepty/vypechka-deserty/mannik-na-kefire-45198-sousom-47478ladom-4472447akao-31082\n",
      "ХачапуриURL /recepty/vypechka-deserty/ovsyanye-ponchiki-s-yablokom-i-koricey-80945azuri-69595\n",
      "Пряники URL /recepty/vypechka-deserty/gruzinskiy-hachapuri-iz-sloenogo-testa-92681057929371\n",
      "Гренки, URL /recepty/vypechka-deserty/imbirnye-pryaniki-s-glazuryu-9167815555-5640503260082835310\n",
      "Галеты, URL /recepty/zavtraki/grenki-v-klyare-farshirovannye-yagodami-91613m-36909687\n",
      "БискоттиURL /recepty/zakuski/galeti-s-tomatami-i-kozim-sirom-54148z-krasnogo-vina-541596631m-48616\n",
      "Крекеры URL /recepty/vypechka-deserty/shokoladnie-biskotti-s-fistashkami-46090ckimi-orehami-41570\n",
      "Эклеры, URL /recepty/vypechka-deserty/tort-iz-krekerov-44604586ikoj-27370-559579zom-27899ekerov-54496\n",
      "Слойки, URL /recepty/vypechka-deserty/eklery-s-shokoladno-slivochnym-syrom-57950j-5216443-24570\n",
      "Зефир3, URL /recepty/salaty/slojki-s-jaichnim-salatom-48224urte-9332299herri-i-rozmarinom-377769\n",
      "ВатрушкиURL /recepty/vypechka-deserty/biskvitnij-tort-s-zefirom-4692599u-ruku-23867896jma-51061\n",
      "РогаликиURL /recepty/vypechka-deserty/korolevskaya-vatrushka-na-drozhzhevom-teste-55743ra-5745996\n",
      "КруассаныRL /recepty/vypechka-deserty/rogaliki-s-marmeladom-32532okoladom-i-orehami-6943439116\n",
      "Творожный тортecepty/vypechka-deserty/kruassani-53211schekami-125591vetchinoy-921577diterskoy-36329\n",
      "ТворожникиL /recepty/vypechka-deserty/tvorozhnij-tort-s-belim-shokoladom-380037480827m-31857\n",
      "ТрубочкиURL /recepty/vypechka-deserty/tvorozhnik-s-klubnikoj-i-niktarinom-51986oze-80001-32147\n",
      "ПрофитролиL /recepty/vypechka-deserty/sirnie-trubochki-s-inzhirom-medom-orehami-2654224323\n",
      "КоврижкаURL /recepty/vypechka-deserty/apelsinovye-profitroli-93831hno-sgushhenim-kremom-profitroli-44876\n",
      "Фокачча URL /recepty/vypechka-deserty/jorkshirskaja-imbirnaja-kovrizhka-parkin-55339m-93889\n",
      "Глазурь URL /recepty/vypechka-deserty/pshenichno-rzhanaya-fokachcha-46514-42056kom-sirom-provolone-29392pomidorami-27199\n",
      "Курник, URL /recepty/vypechka-deserty/belaya-glazur-81138a-glazur-26765-26196e-551788\n",
      "Пахлава URL /recepty/osnovnye-blyuda/kurnik-v-multivarke-58128-muskatnym-orehom-92069ricej-37647\n",
      "Коржики URL /recepty/vypechka-deserty/pahlava-s-greckimi-orehami-i-mindalem-461759184436\n",
      "Пирожное «Мадлен»pty/vypechka-deserty/korzhiki-molochnie-51663ki-444762909\n",
      "Хворост URL /recepty/vypechka-deserty/pechene-madlen-s-krasnoj-smorodinoj-46084ssa-35076\n",
      "Плюшки, URL /recepty/vypechka-deserty/hvorost-so-svinym-zhirom-hrumka-68650hami-piko-80389\n",
      "Пастила URL /recepty/vypechka-deserty/pljushki-s-koricej-na-skoruju-ruku-49436884om-37020\n",
      "Беляши, URL /recepty/pasta-picca/penoni-s-krevetkami-i-pesto-93411-na-pastile-42643\n",
      "Бублики URL /recepty/osnovnye-blyuda/beljashi-iz-testa-na-pshenichnoj-zakvaske-49758ogo-luka-i-narsharaba-35373\n",
      "Торт-суфлеL /recepty/vypechka-deserty/ovsyanye-bubliki-po-nemecki-69671achinkoj-23211\n",
      "Самса2, URL /recepty/vypechka-deserty/tort-sufle-30202fle-s-jagodnim-kurdom-45769go-shokolada-20278\n",
      "Ачма 2, URL /recepty/vypechka-deserty/samsa-s-baraninoj-i-tminom-358296\n",
      "Песочный тортrecepty/zakuski/lenivaja-achma-40155lochki-achma-3545955708\n",
      "КулебякаURL /recepty/vypechka-deserty/pesochnij-tort-so-sgushhennim-molkom-503343852tih-belkov-i-orehov-33258\n",
      "КнедликиURL /recepty/vypechka-deserty/kulebyaka-s-kuricey-125069inkoy-92658\n",
      "РасстегаиRL /recepty/osnovnye-blyuda/tvorozhnye-knedliki-44163635a-15586\n",
      "ЗапеканкаRL /recepty/vypechka-deserty/rasstegai-s-krasnoj-riboj-42539\n",
      "Котлеты, URL /recepty/osnovnye-blyuda/zapekanka-iz-kabachka-80178nanom-i-kivi-12523274orami-i-seldereem-91599m-48209\n",
      "Лапша30, URL /recepty/osnovnye-blyuda/kabachkovye-kotletki-s-kurinym-farshem-93755opa-55809542271lem-42012m-goroshkom-38927\n",
      "Пюре 18, URL /recepty/pasta-picca/lapsha-s-percem-i-batatom-576519oy-zapravkoy-57101ami-57725ilikom-57316ousom-21603\n",
      "Шашлык8, URL /recepty/osnovnye-blyuda/marinovannaja-i-obzharennaja-morkov-s-mindalnim-pjure-55032mi-chipsami-i-balzamicheskim-zhele-35072\n",
      "Стейки6, URL /recepty/osnovnye-blyuda/shashlyk-iz-semgi-na-gruzinskiy-lad-939057336e-27818-chesnoka-2782071349723455-mozhzhevelnika-24855\n",
      "Плов 14, URL /recepty/osnovnye-blyuda/steyk-s-italyanskim-sousom-banya-kauda-56952023fizalisa-542580128omatov-45919\n",
      "Роллы13, URL /recepty/osnovnye-blyuda/dieticheskiy-plov-s-kurinoy-grudkoy-i-chernoslivom-12553102eshkami-18825\n",
      "Лазанья, URL /recepty/osnovnye-blyuda/tayskie-svezhie-rolly-57727ami-i-syrom-93739anovim-kremom-i-shokoladnim-sousom-48373\n",
      "Жаркое0, URL /recepty/osnovnye-blyuda/lazanya-s-tykvoy-rikottoy-i-shalfeem-56885ami-bazilika-5767451mi-54631i-43760\n",
      "Перец фаршированныйy/osnovnye-blyuda/zharkoe-iz-kosuli-11487107159-sparzhi-53916544647348-54468ok-3631123977\n",
      "Тефтели URL /recepty/osnovnye-blyuda/perec-farshirovannyy-myasom-94133lya-vegetariancev-57615u-54454380028825898\n",
      "ОтбивныеURL /recepty/osnovnye-blyuda/tefteli-v-tomatnom-souse-55221ouse-9412950-italjanski-54051-6890646som-80440\n",
      "Голубцы URL /recepty/osnovnye-blyuda/jelegantnie-svinie-otbivnie-55083ade-53862ivkami-51992chesnokom-55525-35110\n",
      "Гратен, URL /recepty/osnovnye-blyuda/golubcy-s-farshem-i-yachnevoy-krupoy-937924316946lju-53289tom-47414shkami-18786\n",
      "ВареникиURL /recepty/osnovnye-blyuda/graten-s-tremya-syrami-i-cvetnoy-kapustoy-56807oj-54323a-29809-25785era-25796mi-35506\n",
      "Фрикадельки /recepty/osnovnye-blyuda/vareniki-s-tvorogom-po-chechelnicki-50271yu-92982114383\n",
      "Овощное рагу/recepty/supy/sup-s-frikadelkami-i-plavlenym-syrom-125392o-sicilijski-53541m-tabasko-57475-520485\n",
      "Гуляш6, URL /recepty/osnovnye-blyuda/ovoschnoe-ragu-s-nutom-izyumom-5738093791orehami-54529afata-di-fave-24902\n",
      "Деруны, URL /recepty/supy/sup-gulyash-po-bavarski-57826s-paprikoj-4221480894oshhami-35711ercem-19496\n",
      "ПельмениURL /recepty/osnovnye-blyuda/draniki-iz-tikvi-spagetti-551826765ovke-47897povara-ribambelle-68635tate-24933\n",
      "Жульен, URL /recepty/osnovnye-blyuda/pelmeni-s-indejkoj-i-kinzoj-52341kitajskie-pelmeni-na-paru-53904\n",
      "Паэлья, URL /recepty/zakuski/zhjulen-v-bulochkah-30802i-v-skovorodke-532224050736079ofelem-i-kapreze-47998\n",
      "Соте 5, URL /recepty/osnovnye-blyuda/ovoshhnaja-pajelja-s-tofu-541007664izo-55625-51900\n",
      "Зразы5, URL /recepty/osnovnye-blyuda/sotje-iz-risa-i-sparzhi-56038lskoj-kapustoj-i-molodoj-fasolju-50733-25312\n",
      "Рататуй URL /recepty/osnovnye-blyuda/tuhum-dulma-93759vorogom-i-shpinatom-445576594\n",
      "Кебаб4, URL /recepty/osnovnye-blyuda/ratatuy-s-cukini-54360uj-54917a-93616-350757i-21334\n"
     ]
    },
    {
     "name": "stdout",
     "output_type": "stream",
     "text": [
      "Шаурма, URL /recepty/osnovnye-blyuda/ovoshhnoj-kebab-s-garnirom-iz-svezhej-kukuruzi-541028749eksikanskim-tomatnim-sousom-salsa-17473\n",
      "Мусака, URL /recepty/osnovnye-blyuda/izrailskaya-shaurma-93530m-93526-39993352419\n",
      "Шницель URL /recepty/osnovnye-blyuda/veganskaja-musaka-s-chesnokom-5408317531hanov-22476\n",
      "Буррито URL /recepty/osnovnye-blyuda/shnicel-iz-teljatini-54695po-italjanski-55138esnochnim-sousom-31668724\n",
      "Биточки URL /recepty/zavtraki/burrito-s-kolbasoj-dlja-zavtraka-55506kapustoj-54193\n",
      "Клецки, URL /recepty/osnovnye-blyuda/veganskie-bitochki-iz-chechevici-36003-luka-koriandra-18745\n",
      "Манты3, URL /recepty/osnovnye-blyuda/klecki-s-limonom-i-lukovym-sousom-pesto-57373matnim-sousom-55295-37893\n",
      "БифштексURL /recepty/osnovnye-blyuda/manti-s-kuricej-govjadinoj-i-kartofelem-43235\n",
      "Бефстроганов/recepty/osnovnye-blyuda/bifshteks-s-perepelinim-jajcom-49868-42272so-specijami-20323m-48867-feta-40432\n",
      "Цыпленок табакаcepty/osnovnye-blyuda/dieticheskij-befstroganov-s-jogurtom-40084d-slivochno-gorchichnim-sousom-21603\n",
      "Долма3, URL /recepty/osnovnye-blyuda/ciplenok-tapaka-v-smetannom-souse-56479-kartofelem-s-tryufelyami-94084\n",
      "Фрикасе URL /recepty/zakuski/dolma-s-teljatinoj-i-proshutto-53717hnevym-risom-i-gribami-57550\n",
      "Эскалоп URL /recepty/supy/tomatnij-gorjachij-sup-s-frikadelkami-53647testa-69585im-nutom-47288nonov-44210\n",
      "ЧахохбилиRL /recepty/osnovnye-blyuda/svinie-jeskalopi-v-kapustnih-listjah-53264gribami-28144om-24253\n",
      "Хинкали URL /recepty/osnovnye-blyuda/chahohbili-iz-kurinih-nozhek-4806992708998\n",
      "Мясо по-французскиty/osnovnye-blyuda/hinkali-s-nezhnoj-sirno-mjatnoj-nachinkoj-56299zandzava-35048\n",
      "БуженинаURL /recepty/osnovnye-blyuda/mjaso-po-francuzski-oladi-16201i-91843mi-3477035525-39350\n",
      "Азуe 2, URL /recepty/osnovnye-blyuda/buzhenina-iz-govjadini-441209016nnaja-chesnokom-51408\n",
      "Печеночный тортcepty/osnovnye-blyuda/azu-s-govyadinoy-kartofelem-i-solenymi-ogurcami-937424\n",
      "Люля-кебабL /recepty/zakuski/pechenochnyy-tort-s-baklazhanami-800953736902\n",
      "Аджапсандал /recepty/osnovnye-blyuda/lyulya-kebab-iz-indeyki-80407yadiny-9274858012482om-po-domashnemu-46409\n",
      "Галушки URL /recepty/zakuski/adzhapsandali-tradicionnyy-80797psandali-45655\n",
      "БешбармакRL /recepty/supy/kapustnyy-sup-s-galushkami-114667628157\n",
      "Чанахи, URL /recepty/osnovnye-blyuda/beshbarmak-iz-govjazhih-reber-52803\n",
      "Бризоль URL /recepty/osnovnye-blyuda/chanahi-s-sousom-sacivi-45225-15137\n",
      "Хашлама URL /recepty/osnovnye-blyuda/postnye-brizolki-6884264inonami-49833\n",
      "МамалыгаURL /recepty/osnovnye-blyuda/hashlama-na-pive-5799615122\n",
      "Куриный бульонecepty/zakuski/mamaliga-po-jamajski-kukuruznaja-kasha-30068978\n",
      "Овощной бульонecepty/bulony/kurinij-bulon-s-ovoshhami-555436atom-36147eem-5832888-3936034962\n",
      "Каши 3, URL /recepty/osnovnye-blyuda/bistrij-i-prostoj-ovoshhnoj-bulon-54195mzi-93890\n",
      "Омлет25, URL /recepty/osnovnye-blyuda/perlovka-s-raznymi-gribami-570166326s-godzhi-9191156088-54754mi-i-tushenym-shpinatom-56087\n",
      "Сырники, URL /recepty/zavtraki/omlet-s-vetchinoy-i-sladkim-percem-125314azilikom-54977ta-55589ladkim-salatom-iz-krasnogo-luka-17408\n",
      "Творожные запеканкиty/zavtraki/sirniki-s-sushenoj-chernikoj-52155979-bananom-913832391486245397\n",
      "Яичница, URL /recepty/vypechka-deserty/tvorozhnaya-zapekanka-s-bananom-i-kivi-125232741595m-46462714\n",
      "Драники URL /recepty/zavtraki/yaichnica-s-pomidorami-i-syrom-125148352263-hlebnoy-podushke-57884erri-38357\n",
      "Мюсли5, URL /recepty/osnovnye-blyuda/draniki-iz-tikvi-spagetti-551826765ovke-47897povara-ribambelle-68635\n",
      "Суп-пюреURL /recepty/vypechka-deserty/teplie-mjusli-s-bananom-56312s-granoloy-9339066ovym-molokom-57669\n",
      "Крем-суп URL /recepty/supy/tykvennyy-sup-pyure-i-skrembl-s-krevetkoy-91519m-i-tuncom-114877vlennyy-kokosovym-molokom-81010\n",
      "{\"id\": 56168, \"name\": \"Микрогрин \"Горох\"\", \"amount\": \"1 г\"}-i-gorohovoy-pylyu-9349791639286no-41241mi-kumina-21225\n",
      "Борщ 23, URL /recepty/supy/tykvennyy-krem-sup-s-krevetkami-i-zelenyu-93731ovarke-555544i-30631\n",
      "Томатный суп /recepty/supy/zelenyy-borsch-s-schavelem-i-kuricey-93135oy-93093211348ekona-11482543132tov-39740\n",
      "Холодные супы/recepty/supy/tomatnyy-sup-s-fenhelem-i-moreproduktami-938137462y-69465-486241726vimi-grenkami-16056\n",
      "Гороховый супrecepty/supy/holodnyy-sup-iz-lichi-i-mango-57565-55795rtom-93095-vinom-29157mindalya-125401\n",
      "Грибной суп /recepty/supy/sup-iz-krasnoy-chechevicy-na-kokosovom-moloke-56272479610m-39354\n",
      "Гаспачо URL /recepty/supy/gribnoy-sup-so-svininoy-i-plavlenym-syrom-12522555130kfora-401960-oreha-21866\n",
      "Сырный супL /recepty/osnovnye-blyuda/gaspacho-po-meksikanski-s-krevetkami-na-grile-53914-44452rana-37176\n",
      "Щиge 6, URL /recepty/supy/syrnyy-sup-s-moreproduktami-ot-restorana-latinos-940065384\n",
      "Солянка URL /recepty/supy/postnye-schi-na-gribnom-bulone-93951kah-80043urinyh-potroshkov-68950\n",
      "Картофельный супepty/osnovnye-blyuda/solyanka-iz-molodoy-kapusty-931779261-percem-178765663\n",
      "Луковый суп /recepty/supy/kartofelnij-sup-s-jajcom-52030ercem-i-frikadelkami-81103i-68689ljem-chauder-47351\n",
      "Ухаe 6, URL /recepty/supy/lukovyy-sup-iz-chechevicy-57004i-chechevicey-57456431-i-podsushennym-latukom-57429\n",
      "Окрошка URL /recepty/osnovnye-blyuda/uha-iz-rechnoy-ryby-12513347761jskaja-uha-47728\n",
      "РассольникL /recepty/supy/vjatskaja-okroshka-52972efire-s-govjadinoj-51324som-45253\n",
      "ПохлебкаURL /recepty/supy/rassolnik-na-kurinnom-bulone-s-risom-499091768603\n",
      "Рисовый суп /recepty/supy/pohlebka-s-fasolju-43795ebka-27985-50452-percem-i-ostrim-chili-41726\n",
      "МинестронеL /recepty/supy/korejskij-miso-sup-s-risovimi-sharikami-50096-328505\n",
      "Суп «Харчо» /recepty/supy/zelenyy-minestrone-56812ulonom-53474esto-421052-51223\n",
      "Мисо 3, URL /recepty/supy/grechnevij-sup-s-chernoslivom-40356i-diabete-69219\n",
      "СвекольникL /recepty/supy/miso-sup-s-kapustoy-kale-i-syrom-tofu-57435vtrak-57438mi-vakame-38252i-20121\n",
      "Молочный суп/recepty/supy/svekolnik-holodnyy-s-kvasom-802884436m-35319-22171\n",
      "Лагман, URL /recepty/supy/molochnij-sup-s-jajcom-31763-kleckami-147239518kabachkami-18705\n",
      "Шурпа2, URL /recepty/osnovnye-blyuda/lagman-po-horezmski-43305oj-16387\n",
      "Таратор URL /recepty/supy/shurpa-s-nutom-58174ranini-s-timjanom-35174-multivarke-69520\n",
      "КапустнякRL /recepty/supy/tarator-s-syrokopchenym-myasom-93297or-19294orom-iz-kedrovih-orehov-23348\n",
      "Буйабес URL /recepty/supy/kapustnjak-47895-kapusti-na-slivkah-3379219-po-zaporozhski-22641\n",
      "Бозбаш, URL /recepty/supy/buyabes-s-moreproduktami-i-sibasom-1147208mi-46586\n",
      "Кулеш2, URL /recepty/osnovnye-blyuda/sup-iz-baranini-bozbashi-1728036395\n",
      "Тосты2, URL /recepty/supy/postnij-kulesh-s-kvashenoj-kapustoj-30988\n",
      "БрускеттаURL /recepty/zakuski/vkusnie-ovsjanie-tosti-iz-klubniki-56304-i-medom-dlja-tostov-i-hlebcev-52119hek-56111ajoneza-42888\n",
      "ГамбургерRL /recepty/zakuski/brusketta-s-travami-53506omidorami-53505-krupnoj-solju-53790uricej-46897ini-44819\n",
      "Клубный сэндвичcepty/pasta-picca/zapekanka-gamburger-iz-lapshi-s-kukuruzoj-54903-5405906m-i-gorchicej-s-garnirom-iz-kartofelja-48171\n",
      "Хот-дог URL /recepty/vypechka-deserty/sjendvichi-s-shokoladom-klubnikoj-i-sirom-bri-47244ilikom-16208i-40543\n",
      "ЧизбургерRL /recepty/osnovnye-blyuda/hot-dog-s-krabom-i-salatom-chuka-94059lou-i-lukom-fri-58314\n",
      "Панини, URL /recepty/zakuski/chizburger-de-ljuks-53995662m-chili-543090636micheskim-uksusom-i-sousom-tartar-54199\n",
      "Крок-месьеL /recepty/sendvichi/sendvich-panini-55198arelloj-55261mi-47743lla-39835\n",
      "Крок-мадамL /recepty/sendvichi/francuzskiy-buterbrod-krok-mese-ot-arama-mnacakanova-68757\n",
      "Томатный соусrecepty/sendvichi/sendvich-krok-madam-915821m-i-krok-mese-39361\n",
      "Майонез URL /recepty/sousy-marinady/sous-iz-pomidorov-sladkogo-perca-i-chili-1251784351842427780areenyh-v-suharyah-i-dr--16136\n",
      "Соус «Песто»/recepty/osnovnye-blyuda/domashnij-majonez-s-vasabi-52853lazhanami-52605onom-69043ejlera-52868\n",
      "Грибной соус/recepty/sousy-marinady/pesto-iz-kinzi-s-limonom-pekorino-romano-27369droj-25436\n",
      "Соус «Бешамель»cepty/sousy-marinady/gribnoj-sous-k-mjasu-51465hampinonov-55201vami-30529bov--57874\n",
      "Горчица URL /recepty/sousy-marinady/sous-s-tikvennimi-semechkami-56270a-55595amel-18110822\n",
      "Барбекю URL /recepty/sousy-marinady/francuzskaja-gorchica-46161s-majonezom-i-chesnokom-3998728675\n",
      "Соус «Тартар»recepty/osnovnye-blyuda/krevetki-na-grile-s-lemongrassom-5370574rile-224579411e-22587hili-22400\n",
      "Аджика, URL /recepty/zakuski/tartar-iz-semgi-92384sem-s-vodnim-kressom-558061eshkoy-125108-pryanyh-trav-93681100-zelenogo-luka-55226\n",
      "Чесночный соусecepty/sousy-marinady/domashnyaya-adzhika-iz-sliv-10420046771\n",
      "Соус «Цезарь»recepty/sousy-marinady/tomatno-chesnochnij-sous-2545725572im-sokom-18224\n",
      "Сырный соус /recepty/sousy-marinady/zapravka-k-salatu-cezar-na-osnove-varenyh-kurinyh-yaic-114569-53424\n",
      "Кетчуп, URL /recepty/osnovnye-blyuda/slivochno-syrnyy-sous-dlya-pasty-81231m-dlya-pasty-5779788\n",
      "Ткемали URL /recepty/sousy-marinady/domashniy-ketchup-s-lukom-i-chesnokom-55778efa-pola-geylera-80193\n",
      "Page 2, URL /recepty/sousy-marinady/tkemali-zelenij-28613orodiny-80062\r"
     ]
    }
   ],
   "source": [
    "data = {}\n",
    "\n",
    "for rec_cat in recipes_subcat_list:\n",
    "    print(rec_cat[\"title\"])\n",
    "    has_items = True\n",
    "    page = 1\n",
    "    \n",
    "    while has_items:\n",
    "        res = requests.get(\"https://eda.ru/{cat}?page={page}\".format(cat=rec_cat[\"href\"], page=page)).text\n",
    "        \n",
    "        if len(pq(res).find(\".recipes-page__recipes .tile-list__horizontal-tile\")):\n",
    "            page += 1\n",
    "            for recipe in pq(res).find(\".recipes-page__recipes .tile-list__horizontal-tile\"):\n",
    "                title = pq(recipe).find(\".horizontal-tile__item-title\").text()\n",
    "                href = pq(recipe).find(\".horizontal-tile__item-title a\").attr(\"href\")\n",
    "                print(\"Page {}, URL {}\".format(page, href), end=\"\\r\")\n",
    "                img_src = pq(recipe).find(\".horizontal-tile__preview .lazy-load-container\").attr(\"data-src\")\n",
    "                booked = int(pq(recipe).find(\".js-bookmark__counter\").text())\n",
    "                likes = int(pq(recipe).find(\".widget-list__like-count\").text().split()[0])\n",
    "                dislikes = int(pq(recipe).find(\".widget-list__like-count\").text().split()[1])\n",
    "                time_to_cook = pq(recipe).find(\".prep-time\").text()\n",
    "                portions = pq(recipe).find(\".js-portions-count-print\").text()\n",
    "                ingredients = []\n",
    "                for ingredient in pq(recipe).find(\".ingredients-list .ingredients-list__content-item\"):\n",
    "                    try:\n",
    "                        attr = pq(ingredient).attr(\"data-ingredient-object\")\n",
    "                        ingredients.append(json.loads(attr.replace('\"\"', '\"')))\n",
    "                    except JSONDecodeError as err:\n",
    "                        print(pq(ingredient).attr(\"data-ingredient-object\"))\n",
    "                        break\n",
    "                \n",
    "                data[href] = {\n",
    "                    \"title\": title,\n",
    "                    \"img_src\": img_src,\n",
    "                    \"ingredients\": ingredients,\n",
    "                    \"booked\": booked,\n",
    "                    \"likes\": likes,\n",
    "                    \"dislikes\": dislikes,\n",
    "                    \"time_to_cook\": time_to_cook,\n",
    "                    \"portions\": portions,\n",
    "                    \"category\": rec_cat[\"title\"]\n",
    "                }\n",
    "        else:\n",
    "            has_items = False"
   ]
  },
  {
   "cell_type": "code",
   "execution_count": 3,
   "metadata": {
    "ExecuteTime": {
     "end_time": "2018-08-02T16:17:31.129990Z",
     "start_time": "2018-08-02T16:17:31.116802Z"
    }
   },
   "outputs": [
    {
     "data": {
      "text/plain": [
       "20759"
      ]
     },
     "execution_count": 3,
     "metadata": {},
     "output_type": "execute_result"
    }
   ],
   "source": [
    "len(data)"
   ]
  },
  {
   "cell_type": "code",
   "execution_count": 99,
   "metadata": {
    "ExecuteTime": {
     "end_time": "2018-08-02T14:30:35.700371Z",
     "start_time": "2018-08-02T14:30:35.549333Z"
    }
   },
   "outputs": [],
   "source": [
    "for num, d in enumerate(data):\n",
    "    data[d][\"id\"] = num"
   ]
  },
  {
   "cell_type": "code",
   "execution_count": 101,
   "metadata": {
    "ExecuteTime": {
     "end_time": "2018-08-02T14:31:06.934573Z",
     "start_time": "2018-08-02T14:31:03.823340Z"
    }
   },
   "outputs": [],
   "source": [
    "json.dump(data, open(\"recipes.json\", \"wt\", encoding=\"utf8\"))"
   ]
  },
  {
   "cell_type": "code",
   "execution_count": 2,
   "metadata": {
    "ExecuteTime": {
     "end_time": "2018-08-02T16:17:28.379730Z",
     "start_time": "2018-08-02T16:17:27.412127Z"
    }
   },
   "outputs": [],
   "source": [
    "data = json.load(open(\"recipes.json\", \"rt\", encoding=\"utf8\"))"
   ]
  },
  {
   "cell_type": "code",
   "execution_count": 106,
   "metadata": {
    "ExecuteTime": {
     "end_time": "2018-08-02T14:34:09.277467Z",
     "start_time": "2018-08-02T14:34:08.825920Z"
    }
   },
   "outputs": [],
   "source": [
    "df = pd.DataFrame.from_dict(data, orient=\"index\")"
   ]
  },
  {
   "cell_type": "code",
   "execution_count": 108,
   "metadata": {
    "ExecuteTime": {
     "end_time": "2018-08-02T14:35:21.874022Z",
     "start_time": "2018-08-02T14:35:21.850995Z"
    }
   },
   "outputs": [
    {
     "data": {
      "text/plain": [
       "4656"
      ]
     },
     "execution_count": 108,
     "metadata": {},
     "output_type": "execute_result"
    }
   ],
   "source": [
    "df[\"img_src\"].isnull().sum()"
   ]
  },
  {
   "cell_type": "code",
   "execution_count": null,
   "metadata": {},
   "outputs": [],
   "source": [
    "df.to_msgpack(\"recipes.msg\")"
   ]
  },
  {
   "cell_type": "code",
   "execution_count": 7,
   "metadata": {
    "ExecuteTime": {
     "end_time": "2018-08-02T16:35:40.074324Z",
     "start_time": "2018-08-02T16:18:34.779069Z"
    },
    "scrolled": true
   },
   "outputs": [
    {
     "data": {
      "application/vnd.jupyter.widget-view+json": {
       "model_id": "285dd55e8fb443da8fafb76d53863734",
       "version_major": 2,
       "version_minor": 0
      },
      "text/plain": [
       "HBox(children=(IntProgress(value=0, max=20759), HTML(value='')))"
      ]
     },
     "metadata": {},
     "output_type": "display_data"
    },
    {
     "name": "stdout",
     "output_type": "stream",
     "text": [
      "\n"
     ]
    }
   ],
   "source": [
    "for url, d in tqdm_notebook(data.items()):\n",
    "#     print(d, end=\"\\r\")\n",
    "    if d[\"img_src\"]:\n",
    "        if d[\"id\"] in range(14419, 40000): # для возобновления закачки с какого-либо момента\n",
    "            url = \"https:\" + d[\"img_src\"]\n",
    "            res = requests.get(url)\n",
    "            path = \"imgs/\" + str(d[\"id\"]) + \".\" + d[\"img_src\"].split(\".\")[-1]\n",
    "            open(path, 'wb').write(res.content)"
   ]
  }
 ],
 "metadata": {
  "kernelspec": {
   "display_name": "Python 3",
   "language": "python",
   "name": "python3"
  },
  "language_info": {
   "codemirror_mode": {
    "name": "ipython",
    "version": 3
   },
   "file_extension": ".py",
   "mimetype": "text/x-python",
   "name": "python",
   "nbconvert_exporter": "python",
   "pygments_lexer": "ipython3",
   "version": "3.6.5"
  },
  "toc": {
   "nav_menu": {},
   "number_sections": true,
   "sideBar": true,
   "skip_h1_title": false,
   "toc_cell": false,
   "toc_position": {},
   "toc_section_display": "block",
   "toc_window_display": false
  }
 },
 "nbformat": 4,
 "nbformat_minor": 2
}
