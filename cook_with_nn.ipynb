{
  "nbformat": 4,
  "nbformat_minor": 0,
  "metadata": {
    "colab": {
      "name": "cook_with_nn.ipynb",
      "version": "0.3.2",
      "provenance": [],
      "include_colab_link": true
    },
    "kernelspec": {
      "name": "python3",
      "display_name": "Python 3"
    },
    "accelerator": "GPU"
  },
  "cells": [
    {
      "cell_type": "markdown",
      "metadata": {
        "id": "view-in-github",
        "colab_type": "text"
      },
      "source": [
        "[View in Colaboratory](https://colab.research.google.com/github/i-Hun/Cook_with_NN/blob/master/cook_with_nn.ipynb)"
      ]
    },
    {
      "metadata": {
        "id": "AkvhrJOb9dmy",
        "colab_type": "code",
        "colab": {}
      },
      "cell_type": "code",
      "source": [
        "!pip install -U -q PyDrive"
      ],
      "execution_count": 0,
      "outputs": []
    },
    {
      "metadata": {
        "id": "g_oUxdooBdSV",
        "colab_type": "code",
        "colab": {
          "base_uri": "https://localhost:8080/",
          "height": 326
        },
        "outputId": "569791a6-4e22-4499-ff42-de74b5a4197d"
      },
      "cell_type": "code",
      "source": [
        "!pip install torch torchvision scikit-image imageio tqdm"
      ],
      "execution_count": 4,
      "outputs": [
        {
          "output_type": "stream",
          "text": [
            "Requirement already satisfied: torch in /usr/local/lib/python3.6/dist-packages (0.4.1)\r\n",
            "Requirement already satisfied: torchvision in /usr/local/lib/python3.6/dist-packages (0.2.1)\r\n",
            "Requirement already satisfied: scikit-image in /usr/local/lib/python3.6/dist-packages (0.13.1)\n",
            "Requirement already satisfied: imageio in /usr/local/lib/python3.6/dist-packages (2.3.0)\n",
            "Requirement already satisfied: tqdm in /usr/local/lib/python3.6/dist-packages (4.25.0)\n",
            "Requirement already satisfied: numpy in /usr/local/lib/python3.6/dist-packages (from torchvision) (1.14.5)\n",
            "Requirement already satisfied: six in /usr/local/lib/python3.6/dist-packages (from torchvision) (1.11.0)\n",
            "Requirement already satisfied: pillow>=4.1.1 in /usr/local/lib/python3.6/dist-packages (from torchvision) (5.2.0)\n",
            "Requirement already satisfied: PyWavelets>=0.4.0 in /usr/local/lib/python3.6/dist-packages (from scikit-image) (0.5.2)\n",
            "Requirement already satisfied: matplotlib>=1.3.1 in /usr/local/lib/python3.6/dist-packages (from scikit-image) (2.1.2)\n",
            "Requirement already satisfied: networkx>=1.8 in /usr/local/lib/python3.6/dist-packages (from scikit-image) (2.1)\n",
            "Requirement already satisfied: scipy>=0.17.0 in /usr/local/lib/python3.6/dist-packages (from scikit-image) (0.19.1)\n",
            "Requirement already satisfied: pytz in /usr/local/lib/python3.6/dist-packages (from matplotlib>=1.3.1->scikit-image) (2018.5)\n",
            "Requirement already satisfied: python-dateutil>=2.1 in /usr/local/lib/python3.6/dist-packages (from matplotlib>=1.3.1->scikit-image) (2.5.3)\n",
            "Requirement already satisfied: cycler>=0.10 in /usr/local/lib/python3.6/dist-packages (from matplotlib>=1.3.1->scikit-image) (0.10.0)\n",
            "Requirement already satisfied: pyparsing!=2.0.4,!=2.1.2,!=2.1.6,>=2.0.1 in /usr/local/lib/python3.6/dist-packages (from matplotlib>=1.3.1->scikit-image) (2.2.0)\n",
            "Requirement already satisfied: decorator>=4.1.0 in /usr/local/lib/python3.6/dist-packages (from networkx>=1.8->scikit-image) (4.3.0)\n"
          ],
          "name": "stdout"
        }
      ]
    },
    {
      "metadata": {
        "id": "of8fZkbIBOAC",
        "colab_type": "code",
        "colab": {}
      },
      "cell_type": "code",
      "source": [
        "import torch\n",
        "from torch.utils.data import Dataset, DataLoader\n",
        "import torchvision\n",
        "import torchvision.transforms as transforms\n",
        "from torchvision import transforms, utils\n",
        "import glob\n",
        "import matplotlib.pyplot as plt\n",
        "import json\n",
        "from tqdm import tqdm_notebook\n",
        "import cv2\n",
        "import os\n",
        "import pandas as pd\n",
        "from skimage import io, transform\n",
        "import numpy as np\n",
        "from sklearn.preprocessing import OneHotEncoder\n",
        "%matplotlib inline\n",
        "# Ignore warnings\n",
        "import warnings\n",
        "warnings.filterwarnings(\"ignore\")\n",
        "\n",
        "plt.ion()"
      ],
      "execution_count": 0,
      "outputs": []
    },
    {
      "metadata": {
        "id": "L5Qx63oC9h8H",
        "colab_type": "code",
        "colab": {}
      },
      "cell_type": "code",
      "source": [
        "# Install the PyDrive wrapper & import libraries.\n",
        "# This only needs to be done once per notebook.\n",
        "from pydrive.auth import GoogleAuth\n",
        "from pydrive.drive import GoogleDrive\n",
        "from google.colab import auth\n",
        "from oauth2client.client import GoogleCredentials\n",
        "import os\n",
        "\n",
        "# Authenticate and create the PyDrive client.\n",
        "# This only needs to be done once per notebook.\n",
        "auth.authenticate_user()\n",
        "gauth = GoogleAuth()\n",
        "gauth.credentials = GoogleCredentials.get_application_default()\n",
        "drive = GoogleDrive(gauth)\n",
        "\n",
        "# Download a file based on its file ID.\n",
        "#\n",
        "# A file ID looks like: laggVyWshwcyP6kEI-y_W3P8D26sz\n",
        "imgs_file_id = '1sGtUUgSV4oMh8FxTqy1lQCAXUoCLDQPJ'\n",
        "labels_file_id = \"16Z1fjm9FTSplC2eqQB0ofvIScO0lfja_\"\n",
        "imgs_file = drive.CreateFile({'id': imgs_file_id})\n",
        "labels_file = drive.CreateFile({'id': labels_file_id})\n",
        "# print('Downloaded content \"{}\"'.format(downloaded.GetContentString()))"
      ],
      "execution_count": 0,
      "outputs": []
    },
    {
      "metadata": {
        "id": "1w97anLb-RlC",
        "colab_type": "code",
        "colab": {}
      },
      "cell_type": "code",
      "source": [
        "imgs_file.GetContentFile('imgs.zip')"
      ],
      "execution_count": 0,
      "outputs": []
    },
    {
      "metadata": {
        "id": "K-XeidKkGlQA",
        "colab_type": "code",
        "colab": {}
      },
      "cell_type": "code",
      "source": [
        "labels_file.GetContentFile('data/recipes_by_id.json')"
      ],
      "execution_count": 0,
      "outputs": []
    },
    {
      "metadata": {
        "id": "ceFjzhF9-fk0",
        "colab_type": "code",
        "colab": {}
      },
      "cell_type": "code",
      "source": [
        "import zipfile\n",
        "with zipfile.ZipFile(\"imgs.zip\", \"r\") as zip_ref:\n",
        "  if not os.path.exists('data'):\n",
        "    os.makedirs('data')\n",
        "  zip_ref.extractall(\"data/\")"
      ],
      "execution_count": 0,
      "outputs": []
    },
    {
      "metadata": {
        "id": "_SKZNiA2BlcC",
        "colab_type": "code",
        "colab": {
          "base_uri": "https://localhost:8080/",
          "height": 34
        },
        "outputId": "6555d1dd-cd96-4b19-e136-67cf88b4c4ed"
      },
      "cell_type": "code",
      "source": [
        "ls data"
      ],
      "execution_count": 10,
      "outputs": [
        {
          "output_type": "stream",
          "text": [
            "\u001b[0m\u001b[01;34mimgs\u001b[0m/  \u001b[01;34m__MACOSX\u001b[0m/  recipes_by_id.json\r\n"
          ],
          "name": "stdout"
        }
      ]
    },
    {
      "metadata": {
        "id": "LO81DCz6DDf8",
        "colab_type": "code",
        "colab": {}
      },
      "cell_type": "code",
      "source": [
        "IMG_DIR = \"data/imgs/\""
      ],
      "execution_count": 0,
      "outputs": []
    },
    {
      "metadata": {
        "id": "SPJI6JevGImV",
        "colab_type": "code",
        "colab": {}
      },
      "cell_type": "code",
      "source": [
        "labels = json.load(open(\"data/recipes_by_id.json\"))"
      ],
      "execution_count": 0,
      "outputs": []
    },
    {
      "metadata": {
        "id": "KdqmBJfPG75g",
        "colab_type": "code",
        "colab": {
          "base_uri": "https://localhost:8080/",
          "height": 428
        },
        "outputId": "53abf1e7-cab7-48a0-b434-e29f0fbd394d"
      },
      "cell_type": "code",
      "source": [
        "labels_df = pd.DataFrame.from_dict(labels, orient=\"index\").reset_index().drop(\"index\", axis=1)\n",
        "labels_df.head()"
      ],
      "execution_count": 15,
      "outputs": [
        {
          "output_type": "execute_result",
          "data": {
            "text/html": [
              "<div>\n",
              "<style scoped>\n",
              "    .dataframe tbody tr th:only-of-type {\n",
              "        vertical-align: middle;\n",
              "    }\n",
              "\n",
              "    .dataframe tbody tr th {\n",
              "        vertical-align: top;\n",
              "    }\n",
              "\n",
              "    .dataframe thead th {\n",
              "        text-align: right;\n",
              "    }\n",
              "</style>\n",
              "<table border=\"1\" class=\"dataframe\">\n",
              "  <thead>\n",
              "    <tr style=\"text-align: right;\">\n",
              "      <th></th>\n",
              "      <th>title</th>\n",
              "      <th>img_src</th>\n",
              "      <th>ingredients</th>\n",
              "      <th>booked</th>\n",
              "      <th>likes</th>\n",
              "      <th>dislikes</th>\n",
              "      <th>time_to_cook</th>\n",
              "      <th>portions</th>\n",
              "      <th>category</th>\n",
              "      <th>id</th>\n",
              "      <th>sup_category</th>\n",
              "      <th>recipe_url</th>\n",
              "    </tr>\n",
              "  </thead>\n",
              "  <tbody>\n",
              "    <tr>\n",
              "      <th>0</th>\n",
              "      <td>Огурцы в остром маринаде</td>\n",
              "      <td>//img02.rl0.ru/eda/c285x285i/s2.eda.ru/Photos/...</td>\n",
              "      <td>[{'id': 13955, 'name': 'Рисовый уксус', 'amoun...</td>\n",
              "      <td>2271</td>\n",
              "      <td>110</td>\n",
              "      <td>18</td>\n",
              "      <td>5 минут</td>\n",
              "      <td>6 порций</td>\n",
              "      <td>Соленья и консервация</td>\n",
              "      <td>0</td>\n",
              "      <td>Заготовки</td>\n",
              "      <td>/recepty/zakuski/ogurci-v-ostrom-marinade-16230</td>\n",
              "    </tr>\n",
              "    <tr>\n",
              "      <th>1</th>\n",
              "      <td>Соус «Jack Daniel’s» по рецепту ресторана…</td>\n",
              "      <td>//img09.rl0.ru/eda/c285x285i/s1.eda.ru/Photos/...</td>\n",
              "      <td>[{'id': 13430, 'name': 'Чеснок', 'amount': '1 ...</td>\n",
              "      <td>2287</td>\n",
              "      <td>106</td>\n",
              "      <td>6</td>\n",
              "      <td>2 часа</td>\n",
              "      <td>1 порция</td>\n",
              "      <td>Соленья и консервация</td>\n",
              "      <td>1</td>\n",
              "      <td>Заготовки</td>\n",
              "      <td>/recepty/sousy-marinady/sous-jack-daniel-s-po-...</td>\n",
              "    </tr>\n",
              "    <tr>\n",
              "      <th>2</th>\n",
              "      <td>Маринованный чеснок</td>\n",
              "      <td>//img05.rl0.ru/eda/c285x285i/s1.eda.ru/Photos/...</td>\n",
              "      <td>[{'id': 13430, 'name': 'Чеснок', 'amount': '25...</td>\n",
              "      <td>347</td>\n",
              "      <td>8</td>\n",
              "      <td>0</td>\n",
              "      <td>20 минут</td>\n",
              "      <td>12 порций</td>\n",
              "      <td>Соленья и консервация</td>\n",
              "      <td>10</td>\n",
              "      <td>Заготовки</td>\n",
              "      <td>/recepty/zakuski/marinovannij-chesnok-29600</td>\n",
              "    </tr>\n",
              "    <tr>\n",
              "      <th>3</th>\n",
              "      <td>Скумбрия консервированная с яйцом и луком</td>\n",
              "      <td>None</td>\n",
              "      <td>[{'id': 15485, 'name': 'Консервированная скумб...</td>\n",
              "      <td>8</td>\n",
              "      <td>1</td>\n",
              "      <td>0</td>\n",
              "      <td>10 минут</td>\n",
              "      <td>4 порции</td>\n",
              "      <td>Соленья и консервация</td>\n",
              "      <td>100</td>\n",
              "      <td>Заготовки</td>\n",
              "      <td>/recepty/zakuski/skumbrija-konservirovannaja-s...</td>\n",
              "    </tr>\n",
              "    <tr>\n",
              "      <th>4</th>\n",
              "      <td>Салат с куриным филе и стручковой фасолью</td>\n",
              "      <td>//img05.rl0.ru/eda/c285x285i/s1.eda.ru/Photos/...</td>\n",
              "      <td>[{'id': 13544, 'name': 'Куриное филе', 'amount...</td>\n",
              "      <td>14</td>\n",
              "      <td>1</td>\n",
              "      <td>0</td>\n",
              "      <td>30 минут</td>\n",
              "      <td>4 порции</td>\n",
              "      <td>Салаты с курицей</td>\n",
              "      <td>1000</td>\n",
              "      <td>Салаты</td>\n",
              "      <td>/recepty/salaty/salat-s-kurinym-file-i-struchk...</td>\n",
              "    </tr>\n",
              "  </tbody>\n",
              "</table>\n",
              "</div>"
            ],
            "text/plain": [
              "                                        title  \\\n",
              "0                    Огурцы в остром маринаде   \n",
              "1  Соус «Jack Daniel’s» по рецепту ресторана…   \n",
              "2                         Маринованный чеснок   \n",
              "3   Скумбрия консервированная с яйцом и луком   \n",
              "4   Салат с куриным филе и стручковой фасолью   \n",
              "\n",
              "                                             img_src  \\\n",
              "0  //img02.rl0.ru/eda/c285x285i/s2.eda.ru/Photos/...   \n",
              "1  //img09.rl0.ru/eda/c285x285i/s1.eda.ru/Photos/...   \n",
              "2  //img05.rl0.ru/eda/c285x285i/s1.eda.ru/Photos/...   \n",
              "3                                               None   \n",
              "4  //img05.rl0.ru/eda/c285x285i/s1.eda.ru/Photos/...   \n",
              "\n",
              "                                         ingredients  booked  likes  dislikes  \\\n",
              "0  [{'id': 13955, 'name': 'Рисовый уксус', 'amoun...    2271    110        18   \n",
              "1  [{'id': 13430, 'name': 'Чеснок', 'amount': '1 ...    2287    106         6   \n",
              "2  [{'id': 13430, 'name': 'Чеснок', 'amount': '25...     347      8         0   \n",
              "3  [{'id': 15485, 'name': 'Консервированная скумб...       8      1         0   \n",
              "4  [{'id': 13544, 'name': 'Куриное филе', 'amount...      14      1         0   \n",
              "\n",
              "  time_to_cook   portions               category    id sup_category  \\\n",
              "0      5 минут   6 порций  Соленья и консервация     0    Заготовки   \n",
              "1       2 часа   1 порция  Соленья и консервация     1    Заготовки   \n",
              "2     20 минут  12 порций  Соленья и консервация    10    Заготовки   \n",
              "3     10 минут   4 порции  Соленья и консервация   100    Заготовки   \n",
              "4     30 минут   4 порции       Салаты с курицей  1000       Салаты   \n",
              "\n",
              "                                          recipe_url  \n",
              "0    /recepty/zakuski/ogurci-v-ostrom-marinade-16230  \n",
              "1  /recepty/sousy-marinady/sous-jack-daniel-s-po-...  \n",
              "2        /recepty/zakuski/marinovannij-chesnok-29600  \n",
              "3  /recepty/zakuski/skumbrija-konservirovannaja-s...  \n",
              "4  /recepty/salaty/salat-s-kurinym-file-i-struchk...  "
            ]
          },
          "metadata": {
            "tags": []
          },
          "execution_count": 15
        }
      ]
    },
    {
      "metadata": {
        "id": "9NmmHbKPsPph",
        "colab_type": "code",
        "colab": {}
      },
      "cell_type": "code",
      "source": [
        "labels_df.replace({\"Бульоны\": \"Супы\"}, inplace=True)"
      ],
      "execution_count": 0,
      "outputs": []
    },
    {
      "metadata": {
        "id": "_Sz7itCFNqZ-",
        "colab_type": "code",
        "colab": {
          "base_uri": "https://localhost:8080/",
          "height": 221
        },
        "outputId": "80968ad6-4553-4ba6-a2d5-041bc01f6da4"
      },
      "cell_type": "code",
      "source": [
        "labels_df[\"sup_category\"].value_counts()"
      ],
      "execution_count": 84,
      "outputs": [
        {
          "output_type": "execute_result",
          "data": {
            "text/plain": [
              "Выпечка и десерты    5886\n",
              "Основные блюда       2574\n",
              "Закуски              2088\n",
              "Супы                 1490\n",
              "Напитки              1185\n",
              "Салаты               1119\n",
              "Завтраки              819\n",
              "Соусы и маринады      344\n",
              "Сэндвичи              253\n",
              "Заготовки             177\n",
              "Паста и пицца         159\n",
              "Name: sup_category, dtype: int64"
            ]
          },
          "metadata": {
            "tags": []
          },
          "execution_count": 84
        }
      ]
    },
    {
      "metadata": {
        "id": "P07zvECjrEPH",
        "colab_type": "code",
        "colab": {}
      },
      "cell_type": "code",
      "source": [
        "rev_prop = 1/labels_df[\"sup_category\"].value_counts(normalize=True).values\n",
        "rev_prop = rev_prop/rev_prop.sum()"
      ],
      "execution_count": 0,
      "outputs": []
    },
    {
      "metadata": {
        "id": "qEL4nfe2G-hD",
        "colab_type": "code",
        "colab": {}
      },
      "cell_type": "code",
      "source": [
        "labels_df.index = labels_df.index.astype(int)\n",
        "labels_df.sort_index(inplace=True)"
      ],
      "execution_count": 0,
      "outputs": []
    },
    {
      "metadata": {
        "id": "_1aim8QgHHXZ",
        "colab_type": "code",
        "colab": {}
      },
      "cell_type": "code",
      "source": [
        "img_ids = [int(os.path.splitext(os.path.basename(name))[0])\n",
        "           for name in glob.glob(IMG_DIR + \"*\")\n",
        "           if os.path.splitext(os.path.basename(name))[0].isdigit()\n",
        "          ]"
      ],
      "execution_count": 0,
      "outputs": []
    },
    {
      "metadata": {
        "id": "nCay4aQCHLh6",
        "colab_type": "code",
        "colab": {}
      },
      "cell_type": "code",
      "source": [
        "labels_df = labels_df[labels_df[\"id\"].isin(img_ids)]"
      ],
      "execution_count": 0,
      "outputs": []
    },
    {
      "metadata": {
        "id": "mJIBfzD1HTI4",
        "colab_type": "code",
        "colab": {
          "base_uri": "https://localhost:8080/",
          "height": 34
        },
        "outputId": "86b9886a-d58d-4ff6-e1d8-83e74fa665b4"
      },
      "cell_type": "code",
      "source": [
        "labels_df.shape"
      ],
      "execution_count": 44,
      "outputs": [
        {
          "output_type": "execute_result",
          "data": {
            "text/plain": [
              "(16094, 12)"
            ]
          },
          "metadata": {
            "tags": []
          },
          "execution_count": 44
        }
      ]
    },
    {
      "metadata": {
        "id": "eQyXAXe4iTFw",
        "colab_type": "code",
        "colab": {
          "base_uri": "https://localhost:8080/",
          "height": 34
        },
        "outputId": "8983864b-7a68-480a-b9b9-dbf5b8ad3f13"
      },
      "cell_type": "code",
      "source": [
        "device = torch.device(\"cuda:0\" if torch.cuda.is_available() else \"cpu\")\n",
        "\n",
        "# Assume that we are on a CUDA machine, then this should print a CUDA device:\n",
        "\n",
        "print(device)"
      ],
      "execution_count": 45,
      "outputs": [
        {
          "output_type": "stream",
          "text": [
            "cuda:0\n"
          ],
          "name": "stdout"
        }
      ]
    },
    {
      "metadata": {
        "id": "54rf2WZKh0bY",
        "colab_type": "code",
        "colab": {}
      },
      "cell_type": "code",
      "source": [
        "BATCH_SIZE = 4"
      ],
      "execution_count": 0,
      "outputs": []
    },
    {
      "metadata": {
        "id": "btEleFQcHUjQ",
        "colab_type": "code",
        "colab": {}
      },
      "cell_type": "code",
      "source": [
        "# https://pytorch.org/tutorials/beginner/data_loading_tutorial.html\n",
        "\n",
        "class RecipiesDataset(Dataset):\n",
        "\n",
        "    def __init__(self, labels_df, img_dir, transform=None):\n",
        "        \"\"\"\n",
        "        Args:\n",
        "            labels_file (string): Path to the json with labels.\n",
        "            img_dir (string): Directory with all the images.\n",
        "            transform (callable, optional): Optional transform to be applied\n",
        "                on a sample.\n",
        "        \"\"\"\n",
        "        self.img_dir = img_dir\n",
        "        self.labels = labels_df\n",
        "        self.supcat_dummies = pd.get_dummies(labels_df[\"sup_category\"])\n",
        "        self.supcat_names = self.supcat_dummies.columns\n",
        "        self.transform = transform\n",
        "\n",
        "    def __len__(self):\n",
        "        img_ids = [os.path.splitext(os.path.basename(name))[0]\n",
        "                   for name in glob.glob(self.img_dir + \"*\")\n",
        "                   if os.path.splitext(os.path.basename(name))[0].isdigit()\n",
        "                  ]\n",
        "        return len(img_ids)\n",
        "\n",
        "    def __getitem__(self, idx):\n",
        "        _id = self.labels.iloc[int(idx)][\"id\"]\n",
        "        \n",
        "        img_path = os.path.join(self.img_dir, str(_id))\n",
        "        if os.path.isfile(img_path + \".jpg\"):\n",
        "            img_name = img_path + \".jpg\"\n",
        "        elif os.path.isfile(img_path + \".png\"):\n",
        "            img_name = img_path + \".png\"\n",
        "        else:\n",
        "            img_name = None\n",
        "            raise Exception(\"Image with index {} does not exist\".format(_id))\n",
        "        if img_name:\n",
        "            image = cv2.imread(img_name)\n",
        "            image = cv2.cvtColor(image, cv2.COLOR_BGR2RGB)\n",
        "            \n",
        "                \n",
        "            sample = {\n",
        "                'image': image,\n",
        "                'supcategory_labels': self.supcat_dummies.iloc[int(idx)].values\n",
        "            }\n",
        "\n",
        "            if self.transform:\n",
        "                sample = self.transform(sample)\n",
        "\n",
        "            return sample"
      ],
      "execution_count": 0,
      "outputs": []
    },
    {
      "metadata": {
        "id": "c_WZwSIWHZVq",
        "colab_type": "code",
        "colab": {}
      },
      "cell_type": "code",
      "source": [
        "recipies_dataset = RecipiesDataset(labels_df=labels_df,\n",
        "                                    img_dir=IMG_DIR)"
      ],
      "execution_count": 0,
      "outputs": []
    },
    {
      "metadata": {
        "id": "rrjrzLtVHbdZ",
        "colab_type": "code",
        "colab": {
          "base_uri": "https://localhost:8080/",
          "height": 34
        },
        "outputId": "35a7c849-00c7-41dd-de92-b08f50efeba2"
      },
      "cell_type": "code",
      "source": [
        "len(recipies_dataset.supcat_names)"
      ],
      "execution_count": 49,
      "outputs": [
        {
          "output_type": "execute_result",
          "data": {
            "text/plain": [
              "11"
            ]
          },
          "metadata": {
            "tags": []
          },
          "execution_count": 49
        }
      ]
    },
    {
      "metadata": {
        "id": "22RJAp-YHd1i",
        "colab_type": "code",
        "colab": {}
      },
      "cell_type": "code",
      "source": [
        "class Rescale(object):\n",
        "    \"\"\"Rescale the image in a sample to a given size.\n",
        "\n",
        "    Args:\n",
        "        output_size (tuple or int): Desired output size. If tuple, output is\n",
        "            matched to output_size. If int, smaller of image edges is matched\n",
        "            to output_size keeping aspect ratio the same.\n",
        "    \"\"\"\n",
        "\n",
        "    def __init__(self, output_size):\n",
        "        assert isinstance(output_size, (int, tuple))\n",
        "        self.output_size = output_size\n",
        "\n",
        "    def __call__(self, sample):\n",
        "        image, labels = sample['image'], sample['supcategory_labels']\n",
        "\n",
        "        h, w = image.shape[:2]\n",
        "        if isinstance(self.output_size, int):\n",
        "            if h > w:\n",
        "                new_h, new_w = self.output_size * h / w, self.output_size\n",
        "            else:\n",
        "                new_h, new_w = self.output_size, self.output_size * w / h\n",
        "        else:\n",
        "            new_h, new_w = self.output_size\n",
        "\n",
        "        new_h, new_w = int(new_h), int(new_w)\n",
        "\n",
        "        img = transform.resize(image, (self.output_size, self.output_size)) # кривое решение наличия неквадратных картинок\n",
        "\n",
        "        # h and w are swapped for landmarks because for images,\n",
        "        # x and y axes are axis 1 and 0 respectively\n",
        "        try:\n",
        "            if img.shape[2] == 4:\n",
        "                img = img[:,:,:-1]\n",
        "        except Exception as err:\n",
        "            print(err, img.shape, img)\n",
        "\n",
        "        return {'image': img, 'supcategory_labels': labels}"
      ],
      "execution_count": 0,
      "outputs": []
    },
    {
      "metadata": {
        "id": "o5ANmriPHf7q",
        "colab_type": "code",
        "colab": {}
      },
      "cell_type": "code",
      "source": [
        "class ToTensor(object):\n",
        "    \"\"\"Convert ndarrays in sample to Tensors.\"\"\"\n",
        "\n",
        "    def __call__(self, sample):\n",
        "        image, landmarks = sample['image'], sample['supcategory_labels']\n",
        "\n",
        "        # swap color axis because\n",
        "        # numpy image: H x W x C\n",
        "        # torch image: C X H X W\n",
        "        image = image.transpose((2, 0, 1))\n",
        "        return {'image': torch.from_numpy(image),\n",
        "                'supcategory_labels': torch.from_numpy(landmarks)}"
      ],
      "execution_count": 0,
      "outputs": []
    },
    {
      "metadata": {
        "id": "1ooxBHloTH_3",
        "colab_type": "code",
        "colab": {
          "base_uri": "https://localhost:8080/",
          "height": 269
        },
        "outputId": "1c6a607e-92ef-45f8-f8c7-ae7de71065f5"
      },
      "cell_type": "code",
      "source": [
        "import cv2\n",
        "\n",
        "img = cv2.imread(IMG_DIR + \"1.jpg\")\n",
        "img = cv2.cvtColor(img, cv2.COLOR_BGR2RGB)\n",
        "plt.imshow(img)\n",
        "plt.show()"
      ],
      "execution_count": 183,
      "outputs": [
        {
          "output_type": "display_data",
          "data": {
            "image/png": "[encoded data removed]",
            "text/plain": [
              "<matplotlib.figure.Figure at 0x7f2736b51b00>"
            ]
          },
          "metadata": {
            "tags": []
          }
        }
      ]
    },
    {
      "metadata": {
        "id": "GMuBPmN3Hh3R",
        "colab_type": "code",
        "colab": {}
      },
      "cell_type": "code",
      "source": [
        "transformed_dataset = RecipiesDataset(labels_df=labels_df,\n",
        "                                    img_dir=IMG_DIR,\n",
        "                                    transform=transforms.Compose([\n",
        "                                        Rescale(256),\n",
        "                                        ToTensor()\n",
        "                                    ]))"
      ],
      "execution_count": 0,
      "outputs": []
    },
    {
      "metadata": {
        "id": "n4OaGUZvupaJ",
        "colab_type": "code",
        "colab": {
          "base_uri": "https://localhost:8080/",
          "height": 34
        },
        "outputId": "918e4bf1-63c4-4850-a252-d7451d46f6c4"
      },
      "cell_type": "code",
      "source": [
        "len(transformed_dataset)"
      ],
      "execution_count": 185,
      "outputs": [
        {
          "output_type": "execute_result",
          "data": {
            "text/plain": [
              "16094"
            ]
          },
          "metadata": {
            "tags": []
          },
          "execution_count": 185
        }
      ]
    },
    {
      "metadata": {
        "id": "FBY6osz-Lil9",
        "colab_type": "code",
        "colab": {}
      },
      "cell_type": "code",
      "source": [
        "weights = [torch.argmax(d[\"supcategory_labels\"]) for d in transformed_dataset]"
      ],
      "execution_count": 0,
      "outputs": []
    },
    {
      "metadata": {
        "id": "wi8Pdta2zcGY",
        "colab_type": "code",
        "colab": {}
      },
      "cell_type": "code",
      "source": [
        "ww = [int(w.numpy()) for w in weights]"
      ],
      "execution_count": 0,
      "outputs": []
    },
    {
      "metadata": {
        "id": "4ayYjiWgeNTx",
        "colab_type": "code",
        "colab": {
          "base_uri": "https://localhost:8080/",
          "height": 221
        },
        "outputId": "70ad464b-bec8-4918-e079-ef17f6150b6b"
      },
      "cell_type": "code",
      "source": [
        "pd.Series(ww).value_counts(normalize=0, sort=False).sort_index()"
      ],
      "execution_count": 164,
      "outputs": [
        {
          "output_type": "execute_result",
          "data": {
            "text/plain": [
              "0     5886\n",
              "1      819\n",
              "2      177\n",
              "3     2088\n",
              "4     1185\n",
              "5     2574\n",
              "6      159\n",
              "7     1119\n",
              "8      344\n",
              "9     1490\n",
              "10     253\n",
              "dtype: int64"
            ]
          },
          "metadata": {
            "tags": []
          },
          "execution_count": 164
        }
      ]
    },
    {
      "metadata": {
        "id": "kPK_D3zpHZGi",
        "colab_type": "code",
        "colab": {}
      },
      "cell_type": "code",
      "source": [
        "rev_prop = 1/pd.Series(ww).value_counts(normalize=0, sort=False).sort_index().values"
      ],
      "execution_count": 0,
      "outputs": []
    },
    {
      "metadata": {
        "id": "IvvxZb_zhwmi",
        "colab_type": "code",
        "colab": {}
      },
      "cell_type": "code",
      "source": [
        "sampler = torch.utils.data.sampler.WeightedRandomSampler(rev_prop[weights], len(transformed_dataset))"
      ],
      "execution_count": 0,
      "outputs": []
    },
    {
      "metadata": {
        "id": "n6nDDwOuHlYD",
        "colab_type": "code",
        "colab": {}
      },
      "cell_type": "code",
      "source": [
        "dataloader = DataLoader(transformed_dataset, batch_size=BATCH_SIZE, sampler=sampler)"
      ],
      "execution_count": 0,
      "outputs": []
    },
    {
      "metadata": {
        "id": "2YquC_CriMLt",
        "colab_type": "code",
        "colab": {
          "base_uri": "https://localhost:8080/",
          "height": 17
        },
        "outputId": "10f2214e-16cb-48c4-9a60-7cf6ce2b6306"
      },
      "cell_type": "code",
      "source": [
        "supcat_labels = []\n",
        "for num, data in enumerate(dataloader, 0):\n",
        "  print(num, end='\\r')\n",
        "  supcat_labels.append(data[\"supcategory_labels\"].cpu().numpy())"
      ],
      "execution_count": 168,
      "outputs": [
        {
          "output_type": "stream",
          "text": [
            ""
          ],
          "name": "stdout"
        }
      ]
    },
    {
      "metadata": {
        "id": "BY1T8ojqo0jQ",
        "colab_type": "code",
        "colab": {}
      },
      "cell_type": "code",
      "source": [
        "supcat_labels_2 = []\n",
        "\n",
        "for i in supcat_labels:\n",
        "  for j in i:\n",
        "    supcat_labels_2.append(np.argmax(j))"
      ],
      "execution_count": 0,
      "outputs": []
    },
    {
      "metadata": {
        "id": "CjZRwS4HPDkR",
        "colab_type": "code",
        "colab": {
          "base_uri": "https://localhost:8080/",
          "height": 204
        },
        "outputId": "cea0cc4c-08a1-4f62-bba1-26eda94c39c9"
      },
      "cell_type": "code",
      "source": [
        "from collections import Counter\n",
        "Counter(supcat_labels_2).most_common()"
      ],
      "execution_count": 170,
      "outputs": [
        {
          "output_type": "execute_result",
          "data": {
            "text/plain": [
              "[(9, 1534),\n",
              " (5, 1501),\n",
              " (1, 1489),\n",
              " (6, 1486),\n",
              " (2, 1462),\n",
              " (3, 1461),\n",
              " (10, 1460),\n",
              " (0, 1432),\n",
              " (8, 1429),\n",
              " (7, 1428),\n",
              " (4, 1412)]"
            ]
          },
          "metadata": {
            "tags": []
          },
          "execution_count": 170
        }
      ]
    },
    {
      "metadata": {
        "id": "PUtYrbeGJrCv",
        "colab_type": "code",
        "colab": {}
      },
      "cell_type": "code",
      "source": [
        "import torch.nn as nn\n",
        "import torch.nn.functional as F\n",
        "from torch.autograd import Variable"
      ],
      "execution_count": 0,
      "outputs": []
    },
    {
      "metadata": {
        "id": "wlKRENN0fwMl",
        "colab_type": "text"
      },
      "cell_type": "markdown",
      "source": [
        "\n",
        "\n",
        "1.   256×256×3 — исходный размер.\n",
        "2.   252×252×6 — после свёртки \n",
        "3.   126×126×6 — после макспуллинга\n",
        "4.   122×122×16 — после свёртки\n",
        "5.    61×61×16 — после макспуллинга\n",
        "6.    Затем полносвязные слои\n",
        "\n"
      ]
    },
    {
      "metadata": {
        "id": "fJPNs7mVSLJJ",
        "colab_type": "code",
        "colab": {}
      },
      "cell_type": "code",
      "source": [
        "class Net(nn.Module):\n",
        "    def __init__(self):\n",
        "        super(Net, self).__init__()\n",
        "        self.conv1 = nn.Conv2d(\n",
        "            in_channels=3, # ширина, высота и цвет\n",
        "            out_channels=6,\n",
        "            kernel_size=5 # свёртка 5*5, т.е. по -4 пикселя по высоте и ширине (-2 верх, -2 низ, ...)\n",
        "            # stride=1, padding=0\n",
        "        )\n",
        "        self.pool = nn.MaxPool2d( # ширина и высота уменьшаются в 2 раза\n",
        "            kernel_size=2,\n",
        "            stride=2\n",
        "        )\n",
        "        self.conv2 = nn.Conv2d(\n",
        "            in_channels=6,\n",
        "            out_channels=16,\n",
        "            kernel_size=5\n",
        "        )\n",
        "\n",
        "        self.fc1 = nn.Linear(\n",
        "            in_features=16 * 61 * 61,\n",
        "            out_features=256\n",
        "        )\n",
        "        self.fc2 = nn.Linear(\n",
        "            in_features=256,\n",
        "            out_features=64\n",
        "        )\n",
        "        self.fc3 = nn.Linear(\n",
        "            in_features=64,\n",
        "            out_features=11\n",
        "        )\n",
        "\n",
        "    def forward(self, x):\n",
        "        x = self.pool(F.relu(self.conv1(x)))\n",
        "        x = self.pool(F.relu(self.conv2(x)))\n",
        "        x = x.view(-1, 16 * 61 * 61)\n",
        "        x = F.relu(self.fc1(x))\n",
        "        x = F.relu(self.fc2(x))\n",
        "        x = self.fc3(x)\n",
        "        return x\n",
        "\n",
        "\n",
        "net = Net().to(device)"
      ],
      "execution_count": 0,
      "outputs": []
    },
    {
      "metadata": {
        "id": "1805Y5gMhIID",
        "colab_type": "code",
        "colab": {}
      },
      "cell_type": "code",
      "source": [
        ""
      ],
      "execution_count": 0,
      "outputs": []
    },
    {
      "metadata": {
        "id": "blRxAQ1aSNcq",
        "colab_type": "code",
        "colab": {
          "base_uri": "https://localhost:8080/",
          "height": 136
        },
        "outputId": "649af831-f1a7-4dda-a131-983684d4de7e"
      },
      "cell_type": "code",
      "source": [
        "import torch.optim as optim\n",
        "import copy\n",
        "\n",
        "criterion = nn.CrossEntropyLoss()\n",
        "optimizer = optim.SGD(net.parameters(), lr=0.001, momentum=0.9)\n",
        "\n",
        "for epoch in range(3):  # loop over the dataset multiple times\n",
        "    running_loss = 0.0\n",
        "    for i, data in enumerate(dataloader, 0):\n",
        "        # get the inputs\n",
        "        inputs, labels = \\\n",
        "          data[\"image\"].type(torch.float32).to(device),\\\n",
        "          data[\"supcategory_labels\"].type(torch.long).to(device)\n",
        "\n",
        "        # zero the parameter gradients\n",
        "        optimizer.zero_grad()\n",
        "\n",
        "        # forward + backward + optimize\n",
        "#         print(inputs.shape)\n",
        "        outputs = net(inputs).to(device)\n",
        "        loss = criterion(outputs, torch.max(labels, 1)[1])\n",
        "        loss.backward()\n",
        "        optimizer.step()\n",
        "\n",
        "        # print statistics\n",
        "        running_loss += loss.item()\n",
        "        if i % 2000 == 1999:    # print every 2000 mini-batches\n",
        "            print('[%d, %5d] loss: %.3f' %\n",
        "                  (epoch + 1, i + 1, running_loss / 2000))\n",
        "            running_loss = 0.0\n",
        "\n",
        "print('Finished Training')"
      ],
      "execution_count": 193,
      "outputs": [
        {
          "output_type": "stream",
          "text": [
            "[1,  2000] loss: 2.395\n",
            "[1,  4000] loss: 2.369\n",
            "[2,  2000] loss: 2.271\n",
            "[2,  4000] loss: 1.792\n",
            "[3,  2000] loss: 1.252\n",
            "[3,  4000] loss: 0.984\n",
            "Finished Training\n"
          ],
          "name": "stdout"
        }
      ]
    },
    {
      "metadata": {
        "id": "AoNtl6vBde3u",
        "colab_type": "code",
        "colab": {}
      },
      "cell_type": "code",
      "source": [
        "def imshow(img):\n",
        "    npimg = img.numpy()\n",
        "    plt.imshow(np.transpose(npimg, (1, 2, 0)))"
      ],
      "execution_count": 0,
      "outputs": []
    },
    {
      "metadata": {
        "id": "_M1LKwY0Trvc",
        "colab_type": "code",
        "colab": {
          "base_uri": "https://localhost:8080/",
          "height": 136
        },
        "outputId": "aa03a8bb-dc18-4304-e588-bdd1773f180f"
      },
      "cell_type": "code",
      "source": [
        "dataiter = next(iter(dataloader))\n",
        "images, labels = dataiter[\"image\"], dataiter[\"supcategory_labels\"]\n",
        "\n",
        "# print images\n",
        "imshow(torchvision.utils.make_grid(images))"
      ],
      "execution_count": 194,
      "outputs": [
        {
          "output_type": "display_data",
          "data": {
            "image/png": "[encoded data removed]",
            "text/plain": [
              "<matplotlib.figure.Figure at 0x7f2737e132b0>"
            ]
          },
          "metadata": {
            "tags": []
          }
        }
      ]
    },
    {
      "metadata": {
        "id": "c33PfSOYeLXM",
        "colab_type": "code",
        "colab": {
          "base_uri": "https://localhost:8080/",
          "height": 85
        },
        "outputId": "abc95267-3c56-457a-d807-b90a1eb73647"
      },
      "cell_type": "code",
      "source": [
        "for i in torch.max(labels, 1)[1]:\n",
        "    print(recipies_dataset.supcat_names[int(i)])"
      ],
      "execution_count": 195,
      "outputs": [
        {
          "output_type": "stream",
          "text": [
            "Сэндвичи\n",
            "Соусы и маринады\n",
            "Закуски\n",
            "Салаты\n"
          ],
          "name": "stdout"
        }
      ]
    },
    {
      "metadata": {
        "id": "ryPwl0jdd9JY",
        "colab_type": "code",
        "colab": {}
      },
      "cell_type": "code",
      "source": [
        "outputs = net(images.type(torch.float32).to(device))"
      ],
      "execution_count": 0,
      "outputs": []
    },
    {
      "metadata": {
        "id": "cd-j4Rd-dgf0",
        "colab_type": "code",
        "colab": {
          "base_uri": "https://localhost:8080/",
          "height": 85
        },
        "outputId": "eb8a4fd4-096c-4a3b-ec7f-79d9e45d9e1b"
      },
      "cell_type": "code",
      "source": [
        "for i in torch.max(outputs, 1)[1]:\n",
        "    print(recipies_dataset.supcat_names[int(i)])"
      ],
      "execution_count": 199,
      "outputs": [
        {
          "output_type": "stream",
          "text": [
            "Сэндвичи\n",
            "Соусы и маринады\n",
            "Закуски\n",
            "Салаты\n"
          ],
          "name": "stdout"
        }
      ]
    },
    {
      "metadata": {
        "id": "a7htWLlgqtQo",
        "colab_type": "code",
        "colab": {}
      },
      "cell_type": "code",
      "source": [
        "from torchvision import datasets, models, transforms"
      ],
      "execution_count": 0,
      "outputs": []
    },
    {
      "metadata": {
        "id": "F-4rhdsOta8y",
        "colab_type": "code",
        "colab": {}
      },
      "cell_type": "code",
      "source": [
        "a = labels_df[\"ingredients\"].apply(lambda l: [i[\"name\"] for i in l]).values"
      ],
      "execution_count": 0,
      "outputs": []
    },
    {
      "metadata": {
        "id": "ba_xJJv78b6_",
        "colab_type": "code",
        "colab": {
          "base_uri": "https://localhost:8080/",
          "height": 34
        },
        "outputId": "6afd5ed8-5a36-4a94-a2d7-b53d8cc69757"
      },
      "cell_type": "code",
      "source": [
        "np.concatenate(a).ravel().shape"
      ],
      "execution_count": 215,
      "outputs": [
        {
          "output_type": "execute_result",
          "data": {
            "text/plain": [
              "(139259,)"
            ]
          },
          "metadata": {
            "tags": []
          },
          "execution_count": 215
        }
      ]
    },
    {
      "metadata": {
        "id": "E9t7tRNH02Jk",
        "colab_type": "code",
        "colab": {}
      },
      "cell_type": "code",
      "source": [
        "from sklearn import preprocessing as pr"
      ],
      "execution_count": 0,
      "outputs": []
    },
    {
      "metadata": {
        "id": "TuOy4YRs60l9",
        "colab_type": "code",
        "colab": {}
      },
      "cell_type": "code",
      "source": [
        "le = pr.LabelEncoder()"
      ],
      "execution_count": 0,
      "outputs": []
    },
    {
      "metadata": {
        "id": "RQ8uUExA74hi",
        "colab_type": "code",
        "colab": {
          "base_uri": "https://localhost:8080/",
          "height": 34
        },
        "outputId": "400bcaf9-8da1-4de3-baef-258deec7d5e1"
      },
      "cell_type": "code",
      "source": [
        "le.fit(np.concatenate(a).ravel())"
      ],
      "execution_count": 217,
      "outputs": [
        {
          "output_type": "execute_result",
          "data": {
            "text/plain": [
              "LabelEncoder()"
            ]
          },
          "metadata": {
            "tags": []
          },
          "execution_count": 217
        }
      ]
    },
    {
      "metadata": {
        "id": "IslgU4O-8Acw",
        "colab_type": "code",
        "colab": {
          "base_uri": "https://localhost:8080/",
          "height": 85
        },
        "outputId": "d02df67d-c610-410a-cfe8-6de98dab016e"
      },
      "cell_type": "code",
      "source": [
        "le.classes_"
      ],
      "execution_count": 218,
      "outputs": [
        {
          "output_type": "execute_result",
          "data": {
            "text/plain": [
              "array([' 3,5%-ный йогурт', ' Готовые сухие листы лазаньи',\n",
              "       ' Замороженная цветная мини капуста', ..., 'Ячневая крупа',\n",
              "       'замороженное пюре из черной смородины ',\n",
              "       'консервированная печень трески '], dtype='<U59')"
            ]
          },
          "metadata": {
            "tags": []
          },
          "execution_count": 218
        }
      ]
    },
    {
      "metadata": {
        "id": "ISEPJu2s8EMo",
        "colab_type": "code",
        "colab": {}
      },
      "cell_type": "code",
      "source": [
        ""
      ],
      "execution_count": 0,
      "outputs": []
    }
  ]
}